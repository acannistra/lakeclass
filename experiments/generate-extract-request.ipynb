{
 "cells": [
  {
   "cell_type": "code",
   "execution_count": 1,
   "metadata": {},
   "outputs": [],
   "source": [
    "import geopandas as gpd\n",
    "import pandas as pd\n",
    "from lakedata import georeader, waterquality\n",
    "from shapely.geometry import Point\n",
    "from numpy import isfinite\n",
    "%config Completer.use_jedi = False"
   ]
  },
  {
   "cell_type": "code",
   "execution_count": 2,
   "metadata": {},
   "outputs": [],
   "source": [
    "nhd_dir = \"../datafiles/Shape/\"\n",
    "eco_dir = \"../waeco/\""
   ]
  },
  {
   "cell_type": "code",
   "execution_count": 3,
   "metadata": {},
   "outputs": [
    {
     "name": "stderr",
     "output_type": "stream",
     "text": [
      "b'Skipping line 27: expected 10 fields, saw 11\\nSkipping line 28: expected 10 fields, saw 11\\nSkipping line 520: expected 10 fields, saw 11\\nSkipping line 521: expected 10 fields, saw 11\\nSkipping line 552: expected 10 fields, saw 11\\nSkipping line 553: expected 10 fields, saw 11\\nSkipping line 554: expected 10 fields, saw 11\\nSkipping line 555: expected 10 fields, saw 11\\nSkipping line 556: expected 10 fields, saw 11\\nSkipping line 557: expected 10 fields, saw 11\\nSkipping line 563: expected 10 fields, saw 11\\nSkipping line 564: expected 10 fields, saw 11\\nSkipping line 565: expected 10 fields, saw 11\\nSkipping line 566: expected 10 fields, saw 11\\nSkipping line 567: expected 10 fields, saw 11\\nSkipping line 568: expected 10 fields, saw 11\\nSkipping line 569: expected 10 fields, saw 11\\nSkipping line 570: expected 10 fields, saw 11\\n'\n"
     ]
    }
   ],
   "source": [
    "lakedata = georeader.getNHDWaterbodies(nhd_dir)\n",
    "ecodata  = waterquality.loadWaterQualityData(eco_dir+'toxin2017_11_6.csv', eco_dir+'EIMLocation.csv')\n",
    "ecodata = ecodata[isfinite(ecodata.Latitude_Decimal_Degrees) | isfinite(ecodata.Longitude_Decimal_Degrees)]"
   ]
  },
  {
   "cell_type": "code",
   "execution_count": 4,
   "metadata": {},
   "outputs": [],
   "source": [
    "ecodata = ecodata.replace('<MDL', 0)"
   ]
  },
  {
   "cell_type": "code",
   "execution_count": 5,
   "metadata": {},
   "outputs": [
    {
     "data": {
      "text/html": [
       "<div>\n",
       "<style scoped>\n",
       "    .dataframe tbody tr th:only-of-type {\n",
       "        vertical-align: middle;\n",
       "    }\n",
       "\n",
       "    .dataframe tbody tr th {\n",
       "        vertical-align: top;\n",
       "    }\n",
       "\n",
       "    .dataframe thead th {\n",
       "        text-align: right;\n",
       "    }\n",
       "</style>\n",
       "<table border=\"1\" class=\"dataframe\">\n",
       "  <thead>\n",
       "    <tr style=\"text-align: right;\">\n",
       "      <th></th>\n",
       "      <th>PERMANENT_</th>\n",
       "      <th>FDATE</th>\n",
       "      <th>RESOLUTION</th>\n",
       "      <th>GNIS_ID</th>\n",
       "      <th>GNIS_NAME</th>\n",
       "      <th>AREASQKM</th>\n",
       "      <th>ELEVATION</th>\n",
       "      <th>REACHCODE</th>\n",
       "      <th>FTYPE</th>\n",
       "      <th>FCODE</th>\n",
       "      <th>...</th>\n",
       "      <th>DESCRIPTIO</th>\n",
       "      <th>HYDROGRAPH</th>\n",
       "      <th>INUNDATION</th>\n",
       "      <th>KCODE</th>\n",
       "      <th>OPERATIONA</th>\n",
       "      <th>PIPELINETY</th>\n",
       "      <th>POSITIONAL</th>\n",
       "      <th>RELATIONSH</th>\n",
       "      <th>RESERVOIRT</th>\n",
       "      <th>STAGE</th>\n",
       "    </tr>\n",
       "  </thead>\n",
       "  <tbody>\n",
       "    <tr>\n",
       "      <th>0</th>\n",
       "      <td>43938735</td>\n",
       "      <td>2016-03-24</td>\n",
       "      <td>2</td>\n",
       "      <td>None</td>\n",
       "      <td>None</td>\n",
       "      <td>0.004416</td>\n",
       "      <td>None</td>\n",
       "      <td>17060108009772</td>\n",
       "      <td>436</td>\n",
       "      <td>43624</td>\n",
       "      <td>...</td>\n",
       "      <td>Reservoir; Reservoir Type = Treatment</td>\n",
       "      <td>None</td>\n",
       "      <td>None</td>\n",
       "      <td>436,RET417</td>\n",
       "      <td>None</td>\n",
       "      <td>None</td>\n",
       "      <td>None</td>\n",
       "      <td>None</td>\n",
       "      <td>Treatment</td>\n",
       "      <td>None</td>\n",
       "    </tr>\n",
       "    <tr>\n",
       "      <th>1</th>\n",
       "      <td>51681191</td>\n",
       "      <td>2002-08-14</td>\n",
       "      <td>2</td>\n",
       "      <td>None</td>\n",
       "      <td>None</td>\n",
       "      <td>0.009000</td>\n",
       "      <td>None</td>\n",
       "      <td>17010306105790</td>\n",
       "      <td>436</td>\n",
       "      <td>43624</td>\n",
       "      <td>...</td>\n",
       "      <td>Reservoir; Reservoir Type = Treatment</td>\n",
       "      <td>None</td>\n",
       "      <td>None</td>\n",
       "      <td>436,RET417</td>\n",
       "      <td>None</td>\n",
       "      <td>None</td>\n",
       "      <td>None</td>\n",
       "      <td>None</td>\n",
       "      <td>Treatment</td>\n",
       "      <td>None</td>\n",
       "    </tr>\n",
       "    <tr>\n",
       "      <th>2</th>\n",
       "      <td>51681387</td>\n",
       "      <td>2013-12-26</td>\n",
       "      <td>2</td>\n",
       "      <td>None</td>\n",
       "      <td>None</td>\n",
       "      <td>0.005190</td>\n",
       "      <td>None</td>\n",
       "      <td>17010306105796</td>\n",
       "      <td>436</td>\n",
       "      <td>43624</td>\n",
       "      <td>...</td>\n",
       "      <td>Reservoir; Reservoir Type = Treatment</td>\n",
       "      <td>None</td>\n",
       "      <td>None</td>\n",
       "      <td>436,RET417</td>\n",
       "      <td>None</td>\n",
       "      <td>None</td>\n",
       "      <td>None</td>\n",
       "      <td>None</td>\n",
       "      <td>Treatment</td>\n",
       "      <td>None</td>\n",
       "    </tr>\n",
       "    <tr>\n",
       "      <th>3</th>\n",
       "      <td>52133257</td>\n",
       "      <td>2002-08-20</td>\n",
       "      <td>2</td>\n",
       "      <td>None</td>\n",
       "      <td>None</td>\n",
       "      <td>0.003000</td>\n",
       "      <td>None</td>\n",
       "      <td>17010214129309</td>\n",
       "      <td>436</td>\n",
       "      <td>43624</td>\n",
       "      <td>...</td>\n",
       "      <td>Reservoir; Reservoir Type = Treatment</td>\n",
       "      <td>None</td>\n",
       "      <td>None</td>\n",
       "      <td>436,RET417</td>\n",
       "      <td>None</td>\n",
       "      <td>None</td>\n",
       "      <td>None</td>\n",
       "      <td>None</td>\n",
       "      <td>Treatment</td>\n",
       "      <td>None</td>\n",
       "    </tr>\n",
       "    <tr>\n",
       "      <th>4</th>\n",
       "      <td>57379485</td>\n",
       "      <td>2002-10-09</td>\n",
       "      <td>2</td>\n",
       "      <td>None</td>\n",
       "      <td>None</td>\n",
       "      <td>0.002000</td>\n",
       "      <td>None</td>\n",
       "      <td>17010305089159</td>\n",
       "      <td>436</td>\n",
       "      <td>43624</td>\n",
       "      <td>...</td>\n",
       "      <td>Reservoir; Reservoir Type = Treatment</td>\n",
       "      <td>None</td>\n",
       "      <td>None</td>\n",
       "      <td>436,RET417</td>\n",
       "      <td>None</td>\n",
       "      <td>None</td>\n",
       "      <td>None</td>\n",
       "      <td>None</td>\n",
       "      <td>Treatment</td>\n",
       "      <td>None</td>\n",
       "    </tr>\n",
       "  </tbody>\n",
       "</table>\n",
       "<p>5 rows × 26 columns</p>\n",
       "</div>"
      ],
      "text/plain": [
       "  PERMANENT_       FDATE  RESOLUTION GNIS_ID GNIS_NAME  AREASQKM ELEVATION  \\\n",
       "0   43938735  2016-03-24           2    None      None  0.004416      None   \n",
       "1   51681191  2002-08-14           2    None      None  0.009000      None   \n",
       "2   51681387  2013-12-26           2    None      None  0.005190      None   \n",
       "3   52133257  2002-08-20           2    None      None  0.003000      None   \n",
       "4   57379485  2002-10-09           2    None      None  0.002000      None   \n",
       "\n",
       "        REACHCODE  FTYPE  FCODE  ...                              DESCRIPTIO  \\\n",
       "0  17060108009772    436  43624  ...   Reservoir; Reservoir Type = Treatment   \n",
       "1  17010306105790    436  43624  ...   Reservoir; Reservoir Type = Treatment   \n",
       "2  17010306105796    436  43624  ...   Reservoir; Reservoir Type = Treatment   \n",
       "3  17010214129309    436  43624  ...   Reservoir; Reservoir Type = Treatment   \n",
       "4  17010305089159    436  43624  ...   Reservoir; Reservoir Type = Treatment   \n",
       "\n",
       "   HYDROGRAPH  INUNDATION       KCODE OPERATIONA PIPELINETY POSITIONAL  \\\n",
       "0        None        None  436,RET417       None       None       None   \n",
       "1        None        None  436,RET417       None       None       None   \n",
       "2        None        None  436,RET417       None       None       None   \n",
       "3        None        None  436,RET417       None       None       None   \n",
       "4        None        None  436,RET417       None       None       None   \n",
       "\n",
       "  RELATIONSH RESERVOIRT STAGE  \n",
       "0       None  Treatment  None  \n",
       "1       None  Treatment  None  \n",
       "2       None  Treatment  None  \n",
       "3       None  Treatment  None  \n",
       "4       None  Treatment  None  \n",
       "\n",
       "[5 rows x 26 columns]"
      ]
     },
     "execution_count": 5,
     "metadata": {},
     "output_type": "execute_result"
    }
   ],
   "source": [
    "lakedata.head()"
   ]
  },
  {
   "cell_type": "code",
   "execution_count": 6,
   "metadata": {},
   "outputs": [
    {
     "data": {
      "text/html": [
       "<div>\n",
       "<style scoped>\n",
       "    .dataframe tbody tr th:only-of-type {\n",
       "        vertical-align: middle;\n",
       "    }\n",
       "\n",
       "    .dataframe tbody tr th {\n",
       "        vertical-align: top;\n",
       "    }\n",
       "\n",
       "    .dataframe thead th {\n",
       "        text-align: right;\n",
       "    }\n",
       "</style>\n",
       "<table border=\"1\" class=\"dataframe\">\n",
       "  <thead>\n",
       "    <tr style=\"text-align: right;\">\n",
       "      <th></th>\n",
       "      <th>County</th>\n",
       "      <th>Site</th>\n",
       "      <th>LabSampleNum</th>\n",
       "      <th>WRIANumber</th>\n",
       "      <th>CollectDate</th>\n",
       "      <th>Parameter</th>\n",
       "      <th>Toxin Concentration (microg/L)</th>\n",
       "      <th>MDL (microg/L)</th>\n",
       "      <th>ExceedInd</th>\n",
       "      <th>ScumInd</th>\n",
       "      <th>loc_idx</th>\n",
       "      <th>Latitude_Decimal_Degrees</th>\n",
       "      <th>Longitude_Decimal_Degrees</th>\n",
       "    </tr>\n",
       "  </thead>\n",
       "  <tbody>\n",
       "    <tr>\n",
       "      <th>13</th>\n",
       "      <td>Benton</td>\n",
       "      <td>Yakima Delta</td>\n",
       "      <td>L68576-2</td>\n",
       "      <td>37.0</td>\n",
       "      <td>09/06/2017</td>\n",
       "      <td>Anatoxin-a</td>\n",
       "      <td>0</td>\n",
       "      <td>0.01</td>\n",
       "      <td>No</td>\n",
       "      <td>No</td>\n",
       "      <td>300</td>\n",
       "      <td>46.238860</td>\n",
       "      <td>-119.228810</td>\n",
       "    </tr>\n",
       "    <tr>\n",
       "      <th>14</th>\n",
       "      <td>Benton</td>\n",
       "      <td>Yakima Delta</td>\n",
       "      <td>L68576-2</td>\n",
       "      <td>37.0</td>\n",
       "      <td>09/06/2017</td>\n",
       "      <td>Microcystin</td>\n",
       "      <td>0.339</td>\n",
       "      <td>0.15</td>\n",
       "      <td>No</td>\n",
       "      <td>No</td>\n",
       "      <td>300</td>\n",
       "      <td>46.238860</td>\n",
       "      <td>-119.228810</td>\n",
       "    </tr>\n",
       "    <tr>\n",
       "      <th>15</th>\n",
       "      <td>Benton</td>\n",
       "      <td>Yakima Delta</td>\n",
       "      <td>L68429-1</td>\n",
       "      <td>37.0</td>\n",
       "      <td>08/14/2017</td>\n",
       "      <td>Anatoxin-a</td>\n",
       "      <td>0.010</td>\n",
       "      <td>0.01</td>\n",
       "      <td>No</td>\n",
       "      <td>Yes</td>\n",
       "      <td>300</td>\n",
       "      <td>46.238860</td>\n",
       "      <td>-119.228810</td>\n",
       "    </tr>\n",
       "    <tr>\n",
       "      <th>16</th>\n",
       "      <td>Benton</td>\n",
       "      <td>Yakima Delta</td>\n",
       "      <td>L68429-1</td>\n",
       "      <td>37.0</td>\n",
       "      <td>08/14/2017</td>\n",
       "      <td>Microcystin</td>\n",
       "      <td>0</td>\n",
       "      <td>0.15</td>\n",
       "      <td>No</td>\n",
       "      <td>Yes</td>\n",
       "      <td>300</td>\n",
       "      <td>46.238860</td>\n",
       "      <td>-119.228810</td>\n",
       "    </tr>\n",
       "    <tr>\n",
       "      <th>17</th>\n",
       "      <td>Chelan</td>\n",
       "      <td>Fish Lake</td>\n",
       "      <td>L63544-5</td>\n",
       "      <td>45.0</td>\n",
       "      <td>08/17/2015</td>\n",
       "      <td>Microcystin</td>\n",
       "      <td>0</td>\n",
       "      <td>0.16</td>\n",
       "      <td>No</td>\n",
       "      <td>Yes</td>\n",
       "      <td>103</td>\n",
       "      <td>47.835594</td>\n",
       "      <td>-120.703665</td>\n",
       "    </tr>\n",
       "  </tbody>\n",
       "</table>\n",
       "</div>"
      ],
      "text/plain": [
       "    County          Site LabSampleNum  WRIANumber CollectDate    Parameter  \\\n",
       "13  Benton  Yakima Delta     L68576-2        37.0  09/06/2017   Anatoxin-a   \n",
       "14  Benton  Yakima Delta     L68576-2        37.0  09/06/2017  Microcystin   \n",
       "15  Benton  Yakima Delta     L68429-1        37.0  08/14/2017   Anatoxin-a   \n",
       "16  Benton  Yakima Delta     L68429-1        37.0  08/14/2017  Microcystin   \n",
       "17  Chelan     Fish Lake     L63544-5        45.0  08/17/2015  Microcystin   \n",
       "\n",
       "   Toxin Concentration (microg/L)  MDL (microg/L) ExceedInd ScumInd  loc_idx  \\\n",
       "13                              0            0.01        No      No      300   \n",
       "14                          0.339            0.15        No      No      300   \n",
       "15                          0.010            0.01        No     Yes      300   \n",
       "16                              0            0.15        No     Yes      300   \n",
       "17                              0            0.16        No     Yes      103   \n",
       "\n",
       "    Latitude_Decimal_Degrees  Longitude_Decimal_Degrees  \n",
       "13                 46.238860                -119.228810  \n",
       "14                 46.238860                -119.228810  \n",
       "15                 46.238860                -119.228810  \n",
       "16                 46.238860                -119.228810  \n",
       "17                 47.835594                -120.703665  "
      ]
     },
     "metadata": {},
     "output_type": "display_data"
    },
    {
     "name": "stdout",
     "output_type": "stream",
     "text": [
      "12124\n"
     ]
    }
   ],
   "source": [
    "display(ecodata.head())\n",
    "print(len(ecodata))"
   ]
  },
  {
   "cell_type": "code",
   "execution_count": 7,
   "metadata": {},
   "outputs": [],
   "source": [
    "eco_geom = [Point(xy) for xy in zip(ecodata.Longitude_Decimal_Degrees, ecodata.Latitude_Decimal_Degrees)]\n",
    "ecodata = gpd.GeoDataFrame(data=ecodata, geometry=eco_geom, crs={'init': 'epsg:4326'})"
   ]
  },
  {
   "cell_type": "code",
   "execution_count": 8,
   "metadata": {},
   "outputs": [
    {
     "data": {
      "text/plain": [
       "Index(['County', 'Site', 'LabSampleNum', 'WRIANumber', 'CollectDate',\n",
       "       'Parameter', 'Toxin Concentration (microg/L)', 'MDL (microg/L)',\n",
       "       'ExceedInd', 'ScumInd', 'loc_idx', 'Latitude_Decimal_Degrees',\n",
       "       'Longitude_Decimal_Degrees', 'geometry', 'index_right', 'PERMANENT_',\n",
       "       'FDATE', 'RESOLUTION', 'GNIS_ID', 'GNIS_NAME', 'AREASQKM', 'ELEVATION',\n",
       "       'REACHCODE', 'FTYPE', 'FCODE', 'SHAPE_LENG', 'SHAPE_AREA', 'VISIBILITY',\n",
       "       'CANALDITCH', 'CONSTRUCTI', 'DESCRIPTIO', 'HYDROGRAPH', 'INUNDATION',\n",
       "       'KCODE', 'OPERATIONA', 'PIPELINETY', 'POSITIONAL', 'RELATIONSH',\n",
       "       'RESERVOIRT', 'STAGE'],\n",
       "      dtype='object')"
      ]
     },
     "execution_count": 8,
     "metadata": {},
     "output_type": "execute_result"
    }
   ],
   "source": [
    "ecodata['geometry'] = ecodata.geometry.buffer(0.01)\n",
    "lakedata = lakedata.to_crs(ecodata.crs)\n",
    "ecodata_withlake = gpd.sjoin(ecodata, lakedata, how='left')\n",
    "# keep only rows with match\n",
    "ecodata_withlake = ecodata_withlake[isfinite(ecodata_withlake.FCODE) == True]\n",
    "ecodata_withlake.columns"
   ]
  },
  {
   "cell_type": "code",
   "execution_count": 9,
   "metadata": {},
   "outputs": [],
   "source": [
    "ecodata_withlake = ecodata_withlake.merge(lakedata.set_index(lakedata.PERMANENT_)[['geometry']], \n",
    "                                          left_on='PERMANENT_', \n",
    "                                          right_index=True, \n",
    "                                          how='left', \n",
    "                                          suffixes=('_pt', '_lake'))\n"
   ]
  },
  {
   "cell_type": "code",
   "execution_count": 10,
   "metadata": {},
   "outputs": [],
   "source": [
    "ecodata_withlake.CollectDate = pd.to_datetime(ecodata_withlake.CollectDate)"
   ]
  },
  {
   "cell_type": "code",
   "execution_count": 11,
   "metadata": {},
   "outputs": [],
   "source": [
    "recent_ecodata = ecodata_withlake[ecodata_withlake.CollectDate >= '2016-01-01']\n"
   ]
  },
  {
   "cell_type": "code",
   "execution_count": 12,
   "metadata": {},
   "outputs": [
    {
     "data": {
      "text/plain": [
       "1425"
      ]
     },
     "execution_count": 12,
     "metadata": {},
     "output_type": "execute_result"
    }
   ],
   "source": [
    "pondslakes = recent_ecodata[recent_ecodata.FTYPE == 390].groupby(['Site', 'CollectDate'])\n",
    "len(pondslakes)"
   ]
  },
  {
   "cell_type": "code",
   "execution_count": 13,
   "metadata": {},
   "outputs": [],
   "source": [
    "final = gpd.GeoDataFrame(crs=ecodata.crs)\n",
    "# select for scum or not -- choosing toxin at random here. \n",
    "\n",
    "for row in pondslakes:\n",
    "    #picking the first row that comes up. assuming scum presence is the same in a single site/date pair\n",
    "    final = final.append(row[1].iloc[0])\n",
    "    \n"
   ]
  },
  {
   "cell_type": "code",
   "execution_count": 14,
   "metadata": {},
   "outputs": [],
   "source": [
    "final.geometry = final.geometry_lake\n",
    "final.CollectDate = final.CollectDate.astype(str)\n",
    "final = final.drop(['geometry_lake', 'geometry_pt'], axis=1)\n",
    "final.sample(n=500).to_file(\"scum_500.shp\")"
   ]
  },
  {
   "cell_type": "code",
   "execution_count": 15,
   "metadata": {},
   "outputs": [
    {
     "data": {
      "text/plain": [
       "Index(['AREASQKM', 'CANALDITCH', 'CONSTRUCTI', 'CollectDate', 'County',\n",
       "       'DESCRIPTIO', 'ELEVATION', 'ExceedInd', 'FCODE', 'FDATE', 'FTYPE',\n",
       "       'GNIS_ID', 'GNIS_NAME', 'HYDROGRAPH', 'INUNDATION', 'KCODE',\n",
       "       'LabSampleNum', 'Latitude_Decimal_Degrees', 'Longitude_Decimal_Degrees',\n",
       "       'MDL (microg/L)', 'OPERATIONA', 'PERMANENT_', 'PIPELINETY',\n",
       "       'POSITIONAL', 'Parameter', 'REACHCODE', 'RELATIONSH', 'RESERVOIRT',\n",
       "       'RESOLUTION', 'SHAPE_AREA', 'SHAPE_LENG', 'STAGE', 'ScumInd', 'Site',\n",
       "       'Toxin Concentration (microg/L)', 'VISIBILITY', 'WRIANumber',\n",
       "       'index_right', 'loc_idx', 'geometry'],\n",
       "      dtype='object')"
      ]
     },
     "execution_count": 15,
     "metadata": {},
     "output_type": "execute_result"
    }
   ],
   "source": [
    "\n",
    "final.columns"
   ]
  },
  {
   "cell_type": "code",
   "execution_count": null,
   "metadata": {},
   "outputs": [],
   "source": []
  }
 ],
 "metadata": {
  "kernelspec": {
   "display_name": "Python 3",
   "language": "python",
   "name": "python3"
  },
  "language_info": {
   "codemirror_mode": {
    "name": "ipython",
    "version": 3
   },
   "file_extension": ".py",
   "mimetype": "text/x-python",
   "name": "python",
   "nbconvert_exporter": "python",
   "pygments_lexer": "ipython3",
   "version": "3.6.3"
  }
 },
 "nbformat": 4,
 "nbformat_minor": 2
}

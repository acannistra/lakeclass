{
 "cells": [
  {
   "cell_type": "markdown",
   "metadata": {},
   "source": [
    "Going to try to identify all of the lakes in the NHD dataset. "
   ]
  },
  {
   "cell_type": "code",
   "execution_count": 54,
   "metadata": {
    "collapsed": true
   },
   "outputs": [],
   "source": [
    "import geopandas as gpd\n",
    "import pandas as pd\n",
    "import matplotlib.pyplot as plt\n",
    "import cartopy.crs as ccrs\n",
    "from cartopy.feature import NaturalEarthFeature, LAND, COASTLINE\n",
    "import seaborn as sns\n",
    "import folium\n",
    "%matplotlib inline\n",
    "\n",
    "from IPython.display import HTML\n",
    "def iframe(url):\n",
    "    iframe = '<iframe src=' + url + ' width=700 height=350></iframe>'\n",
    "    return(HTML(iframe))"
   ]
  },
  {
   "cell_type": "code",
   "execution_count": 2,
   "metadata": {
    "collapsed": true
   },
   "outputs": [],
   "source": [
    "def basemap(projection=ccrs.Mercator.GOOGLE, extent=None):\n",
    "    fig, ax = plt.subplots(figsize=(8, 6), subplot_kw=dict(projection=projection))\n",
    "    states = NaturalEarthFeature(category='cultural', scale='50m', facecolor='none', name='admin_1_states_provinces_shp')\n",
    "    if(extent is not None):\n",
    "        ax.set_extent(extent)\n",
    "    ax.add_feature(states)\n",
    "    ax.gridlines()\n",
    "    return fig, ax\n",
    "    "
   ]
  },
  {
   "cell_type": "code",
   "execution_count": 3,
   "metadata": {
    "collapsed": true
   },
   "outputs": [],
   "source": [
    "datafile = \"/Volumes/wrangell-st-elias/research/wa-shapefiles/Shape/NHDWaterbody.shp\"\n",
    "codesdbfile = \"/Volumes/wrangell-st-elias/research/wa-shapefiles/Shape/NHDFCode.dbf\""
   ]
  },
  {
   "cell_type": "code",
   "execution_count": 4,
   "metadata": {},
   "outputs": [
    {
     "name": "stdout",
     "output_type": "stream",
     "text": [
      "76817 waterbodies in /Volumes/wrangell-st-elias/research/wa-shapefiles/Shape/NHDWaterbody.shp\n"
     ]
    }
   ],
   "source": [
    "nhd_waterbody = gpd.read_file(datafile)\n",
    "print(\"%d waterbodies in %s\" % (len(nhd_waterbody), datafile))"
   ]
  },
  {
   "cell_type": "code",
   "execution_count": 5,
   "metadata": {
    "collapsed": true
   },
   "outputs": [],
   "source": [
    "fcodes = gpd.read_file(codesdbfile)"
   ]
  },
  {
   "cell_type": "code",
   "execution_count": 6,
   "metadata": {},
   "outputs": [
    {
     "data": {
      "text/plain": [
       "Index(['AREASQKM', 'ELEVATION', 'FCODE', 'FDATE', 'FTYPE', 'GNIS_ID',\n",
       "       'GNIS_NAME', 'PERMANENT_', 'REACHCODE', 'RESOLUTION', 'SHAPE_AREA',\n",
       "       'SHAPE_LENG', 'VISIBILITY', 'geometry'],\n",
       "      dtype='object')"
      ]
     },
     "execution_count": 6,
     "metadata": {},
     "output_type": "execute_result"
    }
   ],
   "source": [
    "nhd_waterbody.columns"
   ]
  },
  {
   "cell_type": "code",
   "execution_count": 7,
   "metadata": {},
   "outputs": [
    {
     "data": {
      "text/plain": [
       "Index(['CANALDITCH', 'CONSTRUCTI', 'DESCRIPTIO', 'FCODE', 'HYDROGRAPH',\n",
       "       'INUNDATION', 'KCODE', 'OPERATIONA', 'PIPELINETY', 'POSITIONAL',\n",
       "       'RELATIONSH', 'RESERVOIRT', 'STAGE', 'geometry'],\n",
       "      dtype='object')"
      ]
     },
     "execution_count": 7,
     "metadata": {},
     "output_type": "execute_result"
    }
   ],
   "source": [
    "fcodes.columns"
   ]
  },
  {
   "cell_type": "code",
   "execution_count": 8,
   "metadata": {
    "collapsed": true
   },
   "outputs": [],
   "source": [
    "nhd_waterbody_coded = pd.merge(nhd_waterbody,\n",
    "                               fcodes.drop('geometry', axis=1), \n",
    "                               left_on='FCODE', right_on='FCODE',\n",
    "                               how='left')"
   ]
  },
  {
   "cell_type": "code",
   "execution_count": 9,
   "metadata": {},
   "outputs": [
    {
     "name": "stdout",
     "output_type": "stream",
     "text": [
      "0.10712537279\n",
      "5.43116852875\n"
     ]
    }
   ],
   "source": [
    "print(nhd_waterbody_coded.AREASQKM.mean())\n",
    "print(nhd_waterbody_coded.AREASQKM.std())"
   ]
  },
  {
   "cell_type": "code",
   "execution_count": 55,
   "metadata": {},
   "outputs": [
    {
     "data": {
      "text/html": [
       "<iframe src=test.html width=700 height=350></iframe>"
      ],
      "text/plain": [
       "<IPython.core.display.HTML object>"
      ]
     },
     "execution_count": 55,
     "metadata": {},
     "output_type": "execute_result"
    }
   ],
   "source": [
    "biglakes = nhd_waterbody_coded[(nhd_waterbody_coded.HYDROGRAPH == 'Perennial') & (nhd_waterbody_coded.AREASQKM > 0.1) & (nhd_waterbody_coded.AREASQKM < 20)]\n",
    "#biglakes.plot(categorical=True, column='FTYPE', figsize=(14,6), edgecolor='None', cmap='Dark2', legend=True, alpha=1)\n",
    "m = folium.Map([47.59, -120.3], zoom_start=8)\n",
    "folium.GeoJson(biglakes.to_json(), name='biglakes').add_to(m)\n",
    "m.save('test.html')\n",
    "iframe('test.html')\n"
   ]
  },
  {
   "cell_type": "code",
   "execution_count": 48,
   "metadata": {
    "collapsed": true
   },
   "outputs": [],
   "source": []
  },
  {
   "cell_type": "code",
   "execution_count": 30,
   "metadata": {
    "collapsed": true
   },
   "outputs": [],
   "source": []
  },
  {
   "cell_type": "code",
   "execution_count": null,
   "metadata": {
    "collapsed": true
   },
   "outputs": [],
   "source": []
  }
 ],
 "metadata": {
  "kernelspec": {
   "display_name": "Python 3",
   "language": "python",
   "name": "python3"
  },
  "language_info": {
   "codemirror_mode": {
    "name": "ipython",
    "version": 3
   },
   "file_extension": ".py",
   "mimetype": "text/x-python",
   "name": "python",
   "nbconvert_exporter": "python",
   "pygments_lexer": "ipython3",
   "version": "3.5.2"
  },
  "toc": {
   "colors": {
    "hover_highlight": "#DAA520",
    "navigate_num": "#000000",
    "navigate_text": "#333333",
    "running_highlight": "#FF0000",
    "selected_highlight": "#FFD700",
    "sidebar_border": "#EEEEEE",
    "wrapper_background": "#FFFFFF"
   },
   "moveMenuLeft": true,
   "nav_menu": {
    "height": "12px",
    "width": "252px"
   },
   "navigate_menu": true,
   "number_sections": true,
   "sideBar": true,
   "threshold": 4,
   "toc_cell": false,
   "toc_section_display": "block",
   "toc_window_display": false,
   "widenNotebook": false
  }
 },
 "nbformat": 4,
 "nbformat_minor": 2
}

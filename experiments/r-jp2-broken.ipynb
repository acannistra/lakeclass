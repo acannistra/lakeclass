{
 "cells": [
  {
   "cell_type": "code",
   "execution_count": 1,
   "metadata": {},
   "outputs": [
    {
     "name": "stderr",
     "output_type": "stream",
     "text": [
      "Loading required package: sp\n",
      "rgdal: version: 1.2-15, (SVN revision 691)\n",
      " Geospatial Data Abstraction Library extensions to R successfully loaded\n",
      " Loaded GDAL runtime: GDAL 2.2.2, released 2017/09/15\n",
      " Path to GDAL shared files: /usr/local/opt/gdal2/share/gdal\n",
      " GDAL binary built with GEOS: TRUE \n",
      " Loaded PROJ.4 runtime: Rel. 4.9.3, 15 August 2016, [PJ_VERSION: 493]\n",
      " Path to PROJ.4 shared files: (autodetected)\n",
      " Linking to sp version: 1.2-4 \n"
     ]
    }
   ],
   "source": [
    "library(rgdal)"
   ]
  },
  {
   "cell_type": "code",
   "execution_count": 2,
   "metadata": {},
   "outputs": [
    {
     "ename": "ERROR",
     "evalue": "Error in .local(.Object, ...): \n\n",
     "output_type": "error",
     "traceback": [
      "Error in .local(.Object, ...): \n\nTraceback:\n",
      "1. readGDAL(\"/Volumes/wrangell-st-elias/research/sentinel-2/S2A_MSIL1C_20161224T190812_N0204_R013_T11ULP_20161224T190807.SAFE/GRANULE/L1C_T11ULP_A007875_20161224T190807/IMG_DATA/T11ULP_20161224T190812_B01.jp2\")",
      "2. GDAL.open(fname, silent = silent, allowedDrivers = allowedDrivers, \n .     options = options)",
      "3. new(\"GDALReadOnlyDataset\", filename, silent = silent, allowedDrivers = allowedDrivers, \n .     options = options)",
      "4. initialize(value, ...)",
      "5. initialize(value, ...)",
      "6. .local(.Object, ...)"
     ]
    }
   ],
   "source": [
    "a = readGDAL(\"/Volumes/wrangell-st-elias/research/sentinel-2/S2A_MSIL1C_20161224T190812_N0204_R013_T11ULP_20161224T190807.SAFE/GRANULE/L1C_T11ULP_A007875_20161224T190807/IMG_DATA/T11ULP_20161224T190812_B01.jp2\")"
   ]
  },
  {
   "cell_type": "code",
   "execution_count": 3,
   "metadata": {},
   "outputs": [
    {
     "name": "stderr",
     "output_type": "stream",
     "text": [
      "Installing package into ‘/usr/local/lib/R/3.4/site-library’\n",
      "(as ‘lib’ is unspecified)\n",
      "Warning message in install.packages(\"rgdal\", type = \"source\", configure.args = c(\"--with-proj-include=/usr/local/include\", :\n",
      "“installation of package ‘rgdal’ had non-zero exit status”"
     ]
    }
   ],
   "source": [
    "install.packages('rgdal', type = \"source\", configure.args=c('--with-proj-include=/usr/local/include','--with-proj-lib=/usr/local/lib'))\n"
   ]
  },
  {
   "cell_type": "code",
   "execution_count": null,
   "metadata": {
    "collapsed": true
   },
   "outputs": [],
   "source": []
  }
 ],
 "metadata": {
  "kernelspec": {
   "display_name": "R",
   "language": "R",
   "name": "ir"
  },
  "language_info": {
   "codemirror_mode": "r",
   "file_extension": ".r",
   "mimetype": "text/x-r-source",
   "name": "R",
   "pygments_lexer": "r",
   "version": "3.4.0"
  },
  "toc": {
   "colors": {
    "hover_highlight": "#DAA520",
    "navigate_num": "#000000",
    "navigate_text": "#333333",
    "running_highlight": "#FF0000",
    "selected_highlight": "#FFD700",
    "sidebar_border": "#EEEEEE",
    "wrapper_background": "#FFFFFF"
   },
   "moveMenuLeft": true,
   "nav_menu": {
    "height": "12px",
    "width": "252px"
   },
   "navigate_menu": true,
   "number_sections": true,
   "sideBar": true,
   "threshold": 4,
   "toc_cell": false,
   "toc_section_display": "block",
   "toc_window_display": false,
   "widenNotebook": false
  }
 },
 "nbformat": 4,
 "nbformat_minor": 2
}
